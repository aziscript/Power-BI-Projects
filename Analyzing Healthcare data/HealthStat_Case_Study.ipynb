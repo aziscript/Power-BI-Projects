{
 "cells": [
  {
   "cell_type": "markdown",
   "id": "6247c861-7be0-4942-9120-420ff0c75d5c",
   "metadata": {},
   "source": [
    "# Case Study: Analyzing Healthcare Data in Power BI\n",
    "\n",
    "## Description\n",
    "In healthcare, improving efficiency while maintaining high-quality patient care is a top priority. In this Power BI case study, you’ll explore a real-world dataset to uncover hospital efficiency insights for a consulting company called **HealthStat**.\n",
    "\n",
    "You’ll analyze attributes impacting the **patient length of stay (LOS)** and **cost**, and work to identify factors contributing to hospital differences. You’ll leverage your DAX skills to create measures and generate insightful visualizations.\n",
    "\n",
    "To finish off, you’ll bring it all together in a **sophisticated business dashboard** to communicate insights for the HealthStat team. This case study gives you a chance to practice a range of Power BI skills, working with real-world data.\n",
    "\n",
    "---\n",
    "\n",
    "## Key Insights\n",
    "\n",
    "**Q1: What are the top two procedure descriptions most frequently reported?**  \n",
    "**ANS:** `\"HIP REPLACEMENT, TOT/PRT\"`, `\"OT OR THER PRC ON JOINT\"`\n",
    "\n",
    "---\n",
    "\n",
    "**Q2: What service area has the highest percentage of hospitals?**  \n",
    "**ANS:** New York City has 44 hospitals which represents **29.14%** of total hospitals in the dataset.\n",
    "\n",
    "---\n",
    "\n",
    "**Q3: What service area has the highest percentage of hospitals?**  \n",
    "**ANS:** New York City has 44 hospitals which represents **29.14%** of total hospitals in the dataset.\n",
    "\n",
    "---\n",
    "\n",
    "**Q4: Which group represents the lowest proportion of total discharges as a % of grand total among patients aged 50+?**  \n",
    "**ANS:** Males aged 70+ (13.39%), followed by females aged 70+ (22.31%).\n",
    "\n",
    "---\n",
    "\n",
    "**Q5: What is the average length of stay (LOS) days for males aged 50 or older?**  \n",
    "**ANS:** 2.53 days (elective hip replacement procedure)\n",
    "\n",
    "---\n",
    "\n",
    "**Q6: Among the top 15 hospitals by discharge volume, state the hospital with the longest average LOS followed by the total number of surgeons at that same facility.**  \n",
    "**ANS:** Syosset Hospital - Average LOS: 3.22 days; Surgeons: 11\n",
    "\n",
    "---\n",
    "\n",
    "**Q7: Which one of the following statements is false about average cost per discharge by hospital and health region?**  \n",
    "- (a) Average cost per discharge is highest among hospitals in New York City ($25,502).\n",
    "\n",
    "- (b) Hospital with highest overall average cost per discharge was NYU Lutheran Medical Center ($84,601).  \n",
    "- (c) Five health regions have average cost per discharge below the state average.  \n",
    "- (d) The hospital with the second highest average cost per discharge is in the Long Island health service area **(False)**  \n",
    "\n",
    "**ANS:** (d) is false — Olean General Hospital (Western NY) had the second highest at $81,265.\n",
    "\n",
    "---\n",
    "\n",
    "**Q8: What is the percentage variance for Average LOS Days vs State Average for Kings County Hospital Center?**  \n",
    "**ANS:** 352.59% higher than the state average\n",
    "\n",
    "---\n",
    "\n",
    "**Q9: Among New York City hospitals, how many facilities have an Average cost per discharge above the New York City's 90th percentile?**  \n",
    "**ANS:** 5 facilities\n",
    "\n",
    "---\n",
    "\n",
    "**Q10: How many hospitals are grouped in the `Surgical Program Size` category of \"400-599\"?**  \n",
    "**ANS:** 9 facilities\n",
    "\n",
    "---\n",
    "\n",
    "**Q11: Which statement is false based on the key influencers analysis for average LOS days and cost per discharge?**  \n",
    "- (a) Age and gender are not influencers to average LOS or cost per discharge  \n",
    "- (b) Highest influencer by count for Average LOS days was Extreme severity of illness **(False)**  \n",
    "- (c) Extreme illness severity influences both average LOS and cost per discharge to increase  \n",
    "- (d) Surgical program size of 400-599 decreases average cost per discharge by $5.42K  \n",
    "\n",
    "**ANS:** (b) is false — It only comprised ~2.38% of the data.\n",
    "\n",
    "---\n",
    "\n",
    "**Q12: What is the highest average LOS among hospitals in the Finger Lakes health service area?**  \n",
    "**ANS:** Strong Memorial Hospital — 4.86 days\n",
    "\n",
    "---\n",
    "\n",
    "**Q13: Which of the following statements is false?**  \n",
    "- (a) Hospitals in Long Island ranged in average LOS from 1.9 to 4.6 days  \n",
    "- (b) Lowest hospital average LOS across NY State was 1.4 days  \n",
    "- (c) The three NYC hospitals with the lowest average LOS were above the state average **(False)**  \n",
    "\n",
    "**ANS:** (c) is false — None were above the state average of 2.65 days.\n",
    "\n",
    "---\n",
    "\n",
    "**Q14: What is the % variance in average cost per discharge for Capital/Adiron region's St. Mary's Healthcare facility?**  \n",
    "**ANS:** 59.38% lower than the state average\n",
    "\n",
    "---\n",
    "\n",
    "**Q15: For Memorial Hospital for Cancer and Allied Diseases, what was the average LOS for patients diagnosed with \"Pathological fracture\"?**  \n",
    "**ANS:** 8.27 days\n",
    "\n",
    "---\n",
    "\n",
    "**Q16: Which of the following is true for \"University Hospital\" based on findings from the Hospital Profile dashboard?**  \n",
    "- (a) Osteoarthritis: 279 discharges; Avg cost per discharge: $17K  \n",
    "- (b) Discharged to Home w/ Home Health Services had higher LOS than state average  \n",
    "- (c) Discharged to Skilled Nursing Home had higher LOS than state average **(True)**  \n",
    "- (d) Major illness severity had both lower LOS and cost than state average  \n",
    "\n",
    "**ANS:** (c) is true — Average LOS: 3.47 days, higher than state average of 2.65 days.\n"
   ]
  },
  {
   "cell_type": "code",
   "execution_count": 6,
   "id": "16736496-160a-46da-b630-72e7bed4b5bc",
   "metadata": {},
   "outputs": [],
   "source": [
    "import pandas as pd\n",
    "data = pd.read_csv('Datasets/hospital_inpatient_discharges_totalhipreplacement.csv')"
   ]
  },
  {
   "cell_type": "code",
   "execution_count": 10,
   "id": "1a9a5549-7c69-403a-8143-9ced004fbb17",
   "metadata": {},
   "outputs": [
    {
     "data": {
      "text/plain": [
       "Index(['health_service_area', 'hospital_county',\n",
       "       'operating_certificate_number', 'facility_id', 'facility_name',\n",
       "       'age_group', 'zip_code_3_digits', 'gender', 'race', 'ethnicity',\n",
       "       'length_of_stay', 'type_of_admission', 'patient_disposition',\n",
       "       'discharge_year', 'ccs_diagnosis_code', 'ccs_diagnosis_description',\n",
       "       'ccs_procedure_code', 'ccs_procedure_description', 'apr_drg_code',\n",
       "       'apr_drg_description', 'apr_mdc_code', 'apr_mdc_description',\n",
       "       'apr_severity_of_illness_code', 'apr_severity_of_illness_description',\n",
       "       'apr_risk_of_mortality', 'apr_medical_surgical_description',\n",
       "       'attending_provider_license_number',\n",
       "       'operating_provider_license_number', 'total_charges', 'total_costs'],\n",
       "      dtype='object')"
      ]
     },
     "execution_count": 10,
     "metadata": {},
     "output_type": "execute_result"
    }
   ],
   "source": [
    "data.columns"
   ]
  },
  {
   "cell_type": "code",
   "execution_count": 14,
   "id": "2a7b742b-efd8-4cc7-bc6e-501cceb7caa8",
   "metadata": {},
   "outputs": [
    {
     "data": {
      "text/plain": [
       "(26594, 30)"
      ]
     },
     "execution_count": 14,
     "metadata": {},
     "output_type": "execute_result"
    }
   ],
   "source": [
    "data.shape"
   ]
  },
  {
   "cell_type": "markdown",
   "id": "0d80a674-7d82-4669-bf9e-bec2cb09cfd6",
   "metadata": {},
   "source": [
    "[View Dashboard](https://app.powerbi.com/view?r=eyJrIjoiMTA3M2FkNzQtMjdmMy00ZGJmLTlhYjgtNGRhN2FiYzNhNmEwIiwidCI6IjlhYWU1Yjg3LTU4NDQtNDAzMS04MGEyLWVhZDE0NjNlNzNiNiIsImMiOjN9)"
   ]
  },
  {
   "cell_type": "code",
   "execution_count": null,
   "id": "b2fa88b6-5d78-402e-9517-0fd7da83b80a",
   "metadata": {},
   "outputs": [],
   "source": []
  }
 ],
 "metadata": {
  "kernelspec": {
   "display_name": "Python [conda env:base] *",
   "language": "python",
   "name": "conda-base-py"
  },
  "language_info": {
   "codemirror_mode": {
    "name": "ipython",
    "version": 3
   },
   "file_extension": ".py",
   "mimetype": "text/x-python",
   "name": "python",
   "nbconvert_exporter": "python",
   "pygments_lexer": "ipython3",
   "version": "3.12.3"
  }
 },
 "nbformat": 4,
 "nbformat_minor": 5
}
